{
 "cells": [
  {
   "cell_type": "code",
   "execution_count": 1,
   "metadata": {},
   "outputs": [],
   "source": [
    "class Person:\n",
    "    def __init__(self, name):\n",
    "        self.name = name\n"
   ]
  },
  {
   "cell_type": "code",
   "execution_count": 2,
   "metadata": {},
   "outputs": [],
   "source": [
    "class Human:\n",
    "    def __init__(self, location):\n",
    "        self.location = location\n",
    "        self.id = None\n",
    "        self.dishes = []\n"
   ]
  },
  {
   "cell_type": "code",
   "execution_count": 3,
   "metadata": {},
   "outputs": [],
   "source": [
    "class Dish:\n",
    "    def __init__(self, location, bringer):\n",
    "        self.location = location\n",
    "        self.bringer = bringer\n"
   ]
  },
  {
   "cell_type": "code",
   "execution_count": 4,
   "metadata": {},
   "outputs": [],
   "source": [
    "def attempt_ID(human):\n",
    "    pass"
   ]
  },
  {
   "cell_type": "code",
   "execution_count": 5,
   "metadata": {},
   "outputs": [],
   "source": [
    "def get_nearest(obj, obj_list):\n",
    "    min_dist = float(\"inf\")\n",
    "    closest = None\n",
    "    for i in obj_list:\n",
    "        # IRL we should replace the distance measures with a proper one\n",
    "        if i.location - obj.location < min_dist:\n",
    "            min_dist = i.location - obj.location\n",
    "            closest = i\n",
    "    return closest, min_dist"
   ]
  },
  {
   "cell_type": "code",
   "execution_count": 6,
   "metadata": {},
   "outputs": [],
   "source": [
    "unowned_dishes = []\n",
    "dishes_in_frame = []\n",
    "humans_in_frame = []\n",
    "timers = []"
   ]
  },
  {
   "cell_type": "code",
   "execution_count": 7,
   "metadata": {},
   "outputs": [],
   "source": [
    "def object_enter_frame(obj):\n",
    "    if isinstance(obj, Human):\n",
    "        humans_in_frame.append(obj)\n",
    "        attempt_ID(obj)\n",
    "        for dish in unowned_dishes:\n",
    "            obj.dishes.append(dish)\n",
    "            dish.bringer = obj\n",
    "\n",
    "    if isinstance(obj, Dish):\n",
    "        dishes_in_frame.append(obj)\n",
    "        if len(known_humans) == 0:\n",
    "            unowned_dishes.append(obj)\n",
    "        else:\n",
    "            h = get_nearest(obj, known_humans)\n",
    "            obj.bringer = h\n",
    "            h.dishes.append(obj)"
   ]
  },
  {
   "cell_type": "code",
   "execution_count": 8,
   "metadata": {},
   "outputs": [],
   "source": [
    "def object_leave_frame(obj):\n",
    "    if isinstance(obj, Human):\n",
    "        for dish in obj.dishes:\n",
    "            timers.append((dish, 5)) # 5 is the number of frames before we declare the dish abandoned\n",
    "        humans_in_frame.remove(obj)\n",
    "    \n",
    "    if isinstance(obj, Dish):\n",
    "        if obj.bringer is None:\n",
    "            unowned_dishes.remove(obj)\n",
    "        else:\n",
    "            obj.bringer.dishes.remove(obj)\n",
    "        dishes_in_frame.remove(obj)"
   ]
  },
  {
   "cell_type": "code",
   "execution_count": 10,
   "metadata": {},
   "outputs": [],
   "source": [
    "def per_frame(frame):\n",
    "    for h in humans_in_frame:\n",
    "        if h.id is None:\n",
    "            attempt_ID(h)\n",
    "\n",
    "    for _ in range(len(timers)):\n",
    "        d,t = timers.pop(0)\n",
    "        if t == 0 and d in dishes_in_frame:\n",
    "            print(\"Shame! Shame! Shame!\", d.bringer.id.name, \"left a dirty dish on the counter!\")\n",
    "        else:\n",
    "            timers.append((d, t-1))\n",
    "    \n",
    "    # then do the logic for entering and leaving"
   ]
  },
  {
   "cell_type": "code",
   "execution_count": null,
   "metadata": {},
   "outputs": [],
   "source": []
  }
 ],
 "metadata": {
  "kernelspec": {
   "display_name": "Python 3",
   "language": "python",
   "name": "python3"
  },
  "language_info": {
   "codemirror_mode": {
    "name": "ipython",
    "version": 3
   },
   "file_extension": ".py",
   "mimetype": "text/x-python",
   "name": "python",
   "nbconvert_exporter": "python",
   "pygments_lexer": "ipython3",
   "version": "3.8.10"
  }
 },
 "nbformat": 4,
 "nbformat_minor": 4
}
