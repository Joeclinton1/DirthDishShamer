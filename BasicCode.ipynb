{
 "cells": [
  {
   "cell_type": "code",
   "execution_count": 1,
   "metadata": {},
   "outputs": [],
   "source": [
    "import cv2"
   ]
  },
  {
   "cell_type": "code",
   "execution_count": 2,
   "metadata": {},
   "outputs": [],
   "source": [
    "class Person:\n",
    "    def __init__(self, name):\n",
    "        self.name = name\n"
   ]
  },
  {
   "cell_type": "code",
   "execution_count": 3,
   "metadata": {},
   "outputs": [],
   "source": [
    "class Human:\n",
    "    def __init__(self, location):\n",
    "        self.location = location\n",
    "        self.id = None\n",
    "        self.dishes = []\n"
   ]
  },
  {
   "cell_type": "code",
   "execution_count": 4,
   "metadata": {},
   "outputs": [],
   "source": [
    "class Dish:\n",
    "    def __init__(self, location, bringer):\n",
    "        self.location = location\n",
    "        self.bringer = bringer\n"
   ]
  },
  {
   "cell_type": "code",
   "execution_count": 5,
   "metadata": {},
   "outputs": [],
   "source": [
    "def attempt_ID(human):\n",
    "    pass"
   ]
  },
  {
   "cell_type": "code",
   "execution_count": 6,
   "metadata": {},
   "outputs": [],
   "source": [
    "def get_nearest(obj, obj_list):\n",
    "    min_dist = float(\"inf\")\n",
    "    closest = None\n",
    "    for i in obj_list:\n",
    "        # IRL we should replace the distance measures with a proper one\n",
    "        if i.location - obj.location < min_dist:\n",
    "            min_dist = i.location - obj.location\n",
    "            closest = i\n",
    "    return closest, min_dist"
   ]
  },
  {
   "cell_type": "code",
   "execution_count": 7,
   "metadata": {},
   "outputs": [],
   "source": [
    "unowned_dishes = []\n",
    "dishes_in_frame = []\n",
    "humans_in_frame = []\n",
    "timers = []"
   ]
  },
  {
   "cell_type": "code",
   "execution_count": 8,
   "metadata": {},
   "outputs": [],
   "source": [
    "def object_enter_frame(obj):\n",
    "    if isinstance(obj, Human):\n",
    "        humans_in_frame.append(obj)\n",
    "        attempt_ID(obj)\n",
    "        for dish in unowned_dishes:\n",
    "            obj.dishes.append(dish)\n",
    "            dish.bringer = obj\n",
    "\n",
    "    if isinstance(obj, Dish):\n",
    "        dishes_in_frame.append(obj)\n",
    "        if len(known_humans) == 0:\n",
    "            unowned_dishes.append(obj)\n",
    "        else:\n",
    "            h = get_nearest(obj, known_humans)\n",
    "            obj.bringer = h\n",
    "            h.dishes.append(obj)"
   ]
  },
  {
   "cell_type": "code",
   "execution_count": 9,
   "metadata": {},
   "outputs": [],
   "source": [
    "def object_leave_frame(obj):\n",
    "    if isinstance(obj, Human):\n",
    "        for dish in obj.dishes:\n",
    "            timers.append((dish, 5)) # 5 is the number of frames before we declare the dish abandoned\n",
    "        humans_in_frame.remove(obj)\n",
    "    \n",
    "    if isinstance(obj, Dish):\n",
    "        if obj.bringer is None:\n",
    "            unowned_dishes.remove(obj)\n",
    "        else:\n",
    "            obj.bringer.dishes.remove(obj)\n",
    "        dishes_in_frame.remove(obj)"
   ]
  },
  {
   "cell_type": "code",
   "execution_count": 10,
   "metadata": {},
   "outputs": [],
   "source": [
    "def per_frame(frame):\n",
    "    for h in humans_in_frame:\n",
    "        if h.id is None:\n",
    "            attempt_ID(h)\n",
    "\n",
    "    for _ in range(len(timers)):\n",
    "        d,t = timers.pop(0)\n",
    "        if t == 0 and d in dishes_in_frame:\n",
    "            print(\"Shame! Shame! Shame!\", d.bringer.id.name, \"left a dirty dish on the counter!\")\n",
    "        else:\n",
    "            timers.append((d, t-1))\n",
    "    \n",
    "    # then do the logic for entering and leaving"
   ]
  },
  {
   "cell_type": "code",
   "execution_count": 12,
   "metadata": {},
   "outputs": [
    {
     "ename": "KeyboardInterrupt",
     "evalue": "",
     "output_type": "error",
     "traceback": [
      "\u001b[1;31m---------------------------------------------------------------------------\u001b[0m",
      "\u001b[1;31mKeyboardInterrupt\u001b[0m                         Traceback (most recent call last)",
      "\u001b[1;32m~\\AppData\\Local\\Temp/ipykernel_19376/4248420364.py\u001b[0m in \u001b[0;36m<module>\u001b[1;34m\u001b[0m\n\u001b[0;32m      2\u001b[0m \u001b[1;32mwhile\u001b[0m \u001b[1;32mTrue\u001b[0m\u001b[1;33m:\u001b[0m\u001b[1;33m\u001b[0m\u001b[1;33m\u001b[0m\u001b[0m\n\u001b[0;32m      3\u001b[0m     \u001b[1;31m# Grab a single frame of video\u001b[0m\u001b[1;33m\u001b[0m\u001b[1;33m\u001b[0m\u001b[1;33m\u001b[0m\u001b[0m\n\u001b[1;32m----> 4\u001b[1;33m     \u001b[0mret\u001b[0m\u001b[1;33m,\u001b[0m \u001b[0mframe\u001b[0m \u001b[1;33m=\u001b[0m \u001b[0mvideo_capture\u001b[0m\u001b[1;33m.\u001b[0m\u001b[0mread\u001b[0m\u001b[1;33m(\u001b[0m\u001b[1;33m)\u001b[0m\u001b[1;33m\u001b[0m\u001b[1;33m\u001b[0m\u001b[0m\n\u001b[0m\u001b[0;32m      5\u001b[0m     \u001b[1;32mif\u001b[0m \u001b[0mcv2\u001b[0m\u001b[1;33m.\u001b[0m\u001b[0mwaitKey\u001b[0m\u001b[1;33m(\u001b[0m\u001b[1;36m1\u001b[0m\u001b[1;33m)\u001b[0m \u001b[1;33m&\u001b[0m \u001b[1;36m0xFF\u001b[0m \u001b[1;33m==\u001b[0m \u001b[0mord\u001b[0m\u001b[1;33m(\u001b[0m\u001b[1;34m'q'\u001b[0m\u001b[1;33m)\u001b[0m\u001b[1;33m:\u001b[0m\u001b[1;33m\u001b[0m\u001b[1;33m\u001b[0m\u001b[0m\n\u001b[0;32m      6\u001b[0m         \u001b[1;32mbreak\u001b[0m\u001b[1;33m\u001b[0m\u001b[1;33m\u001b[0m\u001b[0m\n",
      "\u001b[1;31mKeyboardInterrupt\u001b[0m: "
     ]
    }
   ],
   "source": [
    "video_capture = cv2.VideoCapture(0)\n",
    "while True:\n",
    "    # Grab a single frame of video\n",
    "    ret, frame = video_capture.read()\n",
    "    if cv2.waitKey(1) & 0xFF == ord('q'):\n",
    "        break"
   ]
  },
  {
   "cell_type": "code",
   "execution_count": null,
   "metadata": {},
   "outputs": [],
   "source": []
  }
 ],
 "metadata": {
  "kernelspec": {
   "display_name": "Python 3 (ipykernel)",
   "language": "python",
   "name": "python3"
  },
  "language_info": {
   "codemirror_mode": {
    "name": "ipython",
    "version": 3
   },
   "file_extension": ".py",
   "mimetype": "text/x-python",
   "name": "python",
   "nbconvert_exporter": "python",
   "pygments_lexer": "ipython3",
   "version": "3.9.5"
  }
 },
 "nbformat": 4,
 "nbformat_minor": 4
}
